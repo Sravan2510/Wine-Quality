{
 "cells": [
  {
   "cell_type": "code",
   "execution_count": 1,
   "id": "02283960-8383-4b82-a969-787c84315c71",
   "metadata": {},
   "outputs": [],
   "source": [
    "# Part 1: Import Libraries\n",
    "import numpy as np\n",
    "import pandas as pd\n",
    "import matplotlib.pyplot as plt\n",
    "import seaborn as sb\n",
    "from sklearn.model_selection import train_test_split\n",
    "from sklearn.preprocessing import MinMaxScaler\n",
    "from sklearn import metrics\n",
    "from sklearn.svm import SVC\n",
    "from sklearn.linear_model import LogisticRegression\n",
    "from sklearn.impute import SimpleImputer"
   ]
  },
  {
   "cell_type": "code",
   "execution_count": null,
   "id": "569b4e26-a215-4b0a-a5c0-c8b2deb1dd49",
   "metadata": {},
   "outputs": [
    {
     "name": "stdout",
     "output_type": "stream",
     "text": [
      "   fixed acidity  volatile acidity  citric acid  residual sugar  chlorides  \\\n",
      "0            7.4              0.70         0.00             1.9      0.076   \n",
      "1            7.8              0.88         0.00             2.6      0.098   \n",
      "2            7.8              0.76         0.04             2.3      0.092   \n",
      "3           11.2              0.28         0.56             1.9      0.075   \n",
      "4            7.4              0.70         0.00             1.9      0.076   \n",
      "\n",
      "   free sulfur dioxide  total sulfur dioxide  density    pH  sulphates  \\\n",
      "0                 11.0                  34.0   0.9978  3.51       0.56   \n",
      "1                 25.0                  67.0   0.9968  3.20       0.68   \n",
      "2                 15.0                  54.0   0.9970  3.26       0.65   \n",
      "3                 17.0                  60.0   0.9980  3.16       0.58   \n",
      "4                 11.0                  34.0   0.9978  3.51       0.56   \n",
      "\n",
      "   alcohol  quality  Id  \n",
      "0      9.4        5   0  \n",
      "1      9.8        5   1  \n",
      "2      9.8        5   2  \n",
      "3      9.8        6   3  \n",
      "4      9.4        5   4  \n"
     ]
    }
   ],
   "source": [
    "# Part 2: Load the Dataset\n",
    "df = pd.read_csv('winequality.csv')  # Make sure the CSV file is in the same directory\n"
   ]
  },
  {
   "cell_type": "code",
   "execution_count": 3,
   "id": "16092a4a-875a-414a-a3aa-c7d3600bbd0b",
   "metadata": {},
   "outputs": [
    {
     "name": "stdout",
     "output_type": "stream",
     "text": [
      "fixed acidity           0\n",
      "volatile acidity        0\n",
      "citric acid             0\n",
      "residual sugar          0\n",
      "chlorides               0\n",
      "free sulfur dioxide     0\n",
      "total sulfur dioxide    0\n",
      "density                 0\n",
      "pH                      0\n",
      "sulphates               0\n",
      "alcohol                 0\n",
      "quality                 0\n",
      "Id                      0\n",
      "dtype: int64\n"
     ]
    }
   ],
   "source": [
    "# Part 3: Checking for Null Values\n",
    "print(df.isnull().sum())"
   ]
  },
  {
   "cell_type": "code",
   "execution_count": 4,
   "id": "c6927217-ff0d-4905-8012-4a73bd472127",
   "metadata": {},
   "outputs": [],
   "source": [
    "# Part 4: Handle Missing Values\n",
    "for col in df.columns:\n",
    "    if df[col].isnull().sum() > 0:\n",
    "        df[col] = df[col].fillna(df[col].mean())\n",
    "# We are filling the empty columns as na if incase there are any in the dataset which we have choosen"
   ]
  },
  {
   "cell_type": "code",
   "execution_count": 5,
   "id": "1f83025c-0435-4112-ae6d-c74a5c44165b",
   "metadata": {},
   "outputs": [
    {
     "name": "stdout",
     "output_type": "stream",
     "text": [
      "Index(['fixed acidity', 'volatile acidity', 'citric acid', 'residual sugar',\n",
      "       'chlorides', 'free sulfur dioxide', 'total sulfur dioxide', 'density',\n",
      "       'pH', 'sulphates', 'alcohol', 'quality', 'Id'],\n",
      "      dtype='object')\n"
     ]
    }
   ],
   "source": [
    "print(df.columns)"
   ]
  },
  {
   "cell_type": "code",
   "execution_count": 6,
   "id": "f1867d53-6f4d-4f06-9425-8eecd6c028b4",
   "metadata": {},
   "outputs": [],
   "source": [
    "# Part 5: Drop Highly Correlated Features\n",
    "df = df.drop('total sulfur dioxide', axis=1)"
   ]
  },
  {
   "cell_type": "code",
   "execution_count": 7,
   "id": "4f401b8e-4d6b-4054-a071-ffae0de306bc",
   "metadata": {},
   "outputs": [],
   "source": [
    "# Part 6: Create a Binary Target Variable\n",
    "df['best quality'] = [1 if x > 5 else 0 for x in df.quality]"
   ]
  },
  {
   "cell_type": "code",
   "execution_count": 8,
   "id": "6b89f523-c98d-443d-adfa-975cdaa9eac2",
   "metadata": {},
   "outputs": [],
   "source": [
    "# Part 7: Prepare Features and Target Variable\n",
    "features = df.drop(['quality', 'best quality'], axis=1)\n",
    "target = df['best quality']"
   ]
  },
  {
   "cell_type": "code",
   "execution_count": 9,
   "id": "2eb88b19-5baa-4284-8f68-581e7cc58e26",
   "metadata": {},
   "outputs": [],
   "source": [
    "# Part 8: Split the Dataset\n",
    "xtrain, xtest, ytrain, ytest = train_test_split(features, target, test_size=0.2, random_state=40)"
   ]
  },
  {
   "cell_type": "code",
   "execution_count": 10,
   "id": "440a7c87-83bd-47d0-abbb-bff2aaefd4c2",
   "metadata": {},
   "outputs": [],
   "source": [
    "# Part 9: Impute Missing Values After Splitting\n",
    "imputer = SimpleImputer(strategy='mean')\n",
    "xtrain = imputer.fit_transform(xtrain)\n",
    "xtest = imputer.transform(xtest)"
   ]
  },
  {
   "cell_type": "code",
   "execution_count": 11,
   "id": "5bc71788-1c12-4196-8573-b4606826e74c",
   "metadata": {},
   "outputs": [],
   "source": [
    "# Part 10: Normalize the Data\n",
    "norm = MinMaxScaler()\n",
    "xtrain = norm.fit_transform(xtrain)\n",
    "xtest = norm.transform(xtest)"
   ]
  },
  {
   "cell_type": "code",
   "execution_count": 12,
   "id": "93eec779-8556-4f50-bda9-b7f0c4636347",
   "metadata": {},
   "outputs": [
    {
     "name": "stdout",
     "output_type": "stream",
     "text": [
      "LogisticRegression() : \n",
      "Training Accuracy :  0.7536725610489595\n",
      "Validation Accuracy :  0.7255154639175256\n",
      "\n"
     ]
    }
   ],
   "source": [
    "# Part 11: Train Models\n",
    "models = [LogisticRegression()]\n",
    "for model in models:\n",
    "    model.fit(xtrain, ytrain)\n",
    "    print(f'{model} : ')\n",
    "    print('Training Accuracy : ', metrics.roc_auc_score(ytrain, model.predict(xtrain)))\n",
    "    print('Validation Accuracy : ', metrics.roc_auc_score(ytest, model.predict(xtest)))\n",
    "    print()"
   ]
  },
  {
   "cell_type": "code",
   "execution_count": 13,
   "id": "534f0702-9da9-432f-92e1-5131c3f3b78c",
   "metadata": {},
   "outputs": [
    {
     "data": {
      "image/png": "[encoded data removed]",
      "text/plain": [
       "<Figure size 640x480 with 2 Axes>"
      ]
     },
     "metadata": {},
     "output_type": "display_data"
    },
    {
     "name": "stdout",
     "output_type": "stream",
     "text": [
      "              precision    recall  f1-score   support\n",
      "\n",
      "           0       0.67      0.70      0.69        97\n",
      "           1       0.77      0.75      0.76       132\n",
      "\n",
      "    accuracy                           0.73       229\n",
      "   macro avg       0.72      0.73      0.72       229\n",
      "weighted avg       0.73      0.73      0.73       229\n",
      "\n"
     ]
    }
   ],
   "source": [
    "# Part 12: Model Evaluation\n",
    "from sklearn.metrics import confusion_matrix, ConfusionMatrixDisplay\n",
    "\n",
    "# Assuming the Logistic Regression model is the best\n",
    "cm = confusion_matrix(ytest, models[0].predict(xtest))\n",
    "disp = ConfusionMatrixDisplay(confusion_matrix=cm, display_labels=models[0].classes_)\n",
    "disp.plot()\n",
    "plt.show()\n",
    "\n",
    "# Print classification report\n",
    "print(metrics.classification_report(ytest, models[0].predict(xtest)))"
   ]
  },
  {
   "cell_type": "code",
   "execution_count": null,
   "id": "c13ab43c-6f2e-4464-8ccf-e62441470671",
   "metadata": {},
   "outputs": [],
   "source": []
  }
 ],
 "metadata": {
  "kernelspec": {
   "display_name": "Python 3 (ipykernel)",
   "language": "python",
   "name": "python3"
  },
  "language_info": {
   "codemirror_mode": {
    "name": "ipython",
    "version": 3
   },
   "file_extension": ".py",
   "mimetype": "text/x-python",
   "name": "python",
   "nbconvert_exporter": "python",
   "pygments_lexer": "ipython3",
   "version": "3.12.3"
  }
 },
 "nbformat": 4,
 "nbformat_minor": 5
}
